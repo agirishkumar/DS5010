{
 "cells": [
  {
   "cell_type": "code",
   "execution_count": 1,
   "id": "20fa6ff1",
   "metadata": {},
   "outputs": [],
   "source": [
    "import pickle\n",
    "\n",
    "class Matrix:\n",
    "    \"\"\"A Matrix class with attributes matrix_elements and dim\"\"\"\n",
    "    \n",
    "    def __init__(self,elements):\n",
    "        self.matrix_elements = elements\n",
    "        self.m = len(self.matrix_elements)\n",
    "        self.n = len(self.matrix_elements[0])\n",
    "        self.dim = (self.m,self.n) \n",
    "        \n",
    "    def __add__(self,other):\n",
    "        \"\"\"operator overriding '+' for adding two matrices \"\"\"\n",
    "        if (self.dim == other.dim):\n",
    "            res = [[0 for x in range(self.m)] for y in range(self.n)]\n",
    "            for i in range(self.m):\n",
    "                for j in range(self.n):\n",
    "                    res[i][j]=self.matrix_elements[i][j]+other.matrix_elements[i][j]\n",
    "            return res\n",
    "        raise ValueError('dimension mismatch')\n",
    "    \n",
    "    def __sub__(self,other):\n",
    "        \"\"\"operator overriding '-' for subtracting two matrices \"\"\"\n",
    "        \n",
    "        if (self.dim == other.dim):\n",
    "            res = [[0 for x in range(self.m)] for y in range(self.n)]\n",
    "            for i in range(self.m):\n",
    "                for j in range(self.n):\n",
    "                    res[i][j]=self.matrix_elements[i][j]-other.matrix_elements[i][j]\n",
    "            return res\n",
    "        raise ValueError('dimension mismatch')\n",
    "    \n",
    "    def __mul__(self,other):\n",
    "        \"\"\"operator overriding '*' for multiplying two matrices \"\"\"\n",
    "        \n",
    "        if (self.n == other.m):\n",
    "            res = [[0 for x in range(self.m)] for y in range(other.n)]\n",
    "            for i in range(self.m):\n",
    "                for j in range(other.n):\n",
    "                    for k in range(other.m):\n",
    "                        res[i][j] += self.matrix_elements[i][k]*other.matrix_elements[k][j]\n",
    "            return res\n",
    "        raise ValueError('dimension mismatch')\n",
    "    \n",
    "    def __eq__(self,other):\n",
    "        \"\"\"operator overriding '==' for checking if two matrices are equal \"\"\"\n",
    "        if (self.dim == other.dim):\n",
    "            flag = True\n",
    "            # checks if elements at position are equal in both the matrices\n",
    "            for i in range(self.m):\n",
    "                for j in range(self.n):\n",
    "                    if self.matrix_elements[i][j] != other.matrix_elements[i][j]:\n",
    "                        flag = False\n",
    "            if flag: return 'Equal' \n",
    "            else: return 'Not Equal'\n",
    "        raise ValueError('dimension mismatch')\n",
    "    \n",
    "    def __len__(self):\n",
    "        \"\"\"method returns number of elements in the matrix\"\"\"\n",
    "        return self.m*self.n\n",
    "        \n",
    "    def __str__(self):\n",
    "        \"\"\"returns all the elements in the matrix\"\"\"\n",
    "        x = []\n",
    "        for i in range(self.m):\n",
    "            for j in range(self.n):\n",
    "                x.append(str(self.matrix_elements[i][j]))\n",
    "        return (' '.join(x))\n",
    "    \n",
    "    def transpose(self):\n",
    "        \"\"\"returns the transpose of the given matrix\"\"\"\n",
    "        res = [[0 for x in range(self.m)] for y in range(self.n)]\n",
    "        for i in range(self.m):\n",
    "            for j in range(self.n):\n",
    "                res[i][j] = self.matrix_elements[j][i]\n",
    "        return res\n",
    "    \n",
    "\n",
    "    def getminor(self,i,j):\n",
    "        \"\"\" returns the (i,j)th minor matrix \"\"\"\n",
    "        return [row[:j] + row[j+1:] for row in (self.matrix_elements[:i] + self.matrix_elements[i+1:])]\n",
    "\n",
    "    def det(self):\n",
    "        \"\"\"\n",
    "        returns the determinant of a square matrix. Recursion is used, with base case as size of square matrix is equal to 2\"\"\"\n",
    "        \n",
    "        if len(self.matrix_elements) != len(self.matrix_elements[0]): \n",
    "            raise Exception('Not a Square matrix') \n",
    "        \n",
    "        if len(self.matrix_elements) == 1:\n",
    "            return self.matrix_elements[0][0]\n",
    "        \n",
    "        if len(self.matrix_elements) == 2:\n",
    "            return self.matrix_elements[0][0]*self.matrix_elements[1][1] - self.matrix_elements[0][1]*self.matrix_elements[1][0]\n",
    "        \n",
    "        # sum is the required determinent of the  matrix\n",
    "        sum = 0\n",
    "        for col in range(len(self.matrix_elements)):            \n",
    "            sub_det = (Matrix(self.getminor(0, col))).det()\n",
    "            sum += ((-1)**(col)*self.matrix_elements[0][col]*sub_det)\n",
    "        return sum\n",
    "    \n",
    "    @staticmethod\n",
    "    def is_Matrix(a):\n",
    "        \"\"\"checks if the object is matrix or not\"\"\"\n",
    "        if type(a) == Matrix:\n",
    "            return 'Matrix'\n",
    "        return 'Not Matrix'\n",
    "        \n",
    "    def sort(self,type):\n",
    "        \"\"\"sorts the elements of a matrix in ascending order if passed with argument 'inc', for decreasing order argument is 'dec' \"\"\"\n",
    "        self.type=type\n",
    "        x = []\n",
    "        for i in range(self.m):\n",
    "            for j in range(self.n):\n",
    "                x.append(self.matrix_elements[i][j])\n",
    "               \n",
    "        if self.type=='inc':       \n",
    "            return sorted(x)\n",
    "        elif self.type == 'dec':\n",
    "            return sorted(x)[::-1]\n",
    "        else:\n",
    "            raise Exception(\"Invalid sort type!\") \n",
    "        \n",
    "    def save(self,file):\n",
    "        \"\"\"this method takes a filename as an argument and returns the file with exact file name and stores the object of the class Matrix in the binary file\"\"\"\n",
    "        pickle.dump(self, open(file, \"wb\"))\n",
    "        \n",
    "    def load(self,file):\n",
    "        \"\"\"this method takes a filename as an argument, reads the binary file and returns the saved object from the file\"\"\"\n",
    "        with open(file, \"rb\") as f:\n",
    "            x = pickle.load(f)\n",
    "            print(x)\n",
    "            "
   ]
  },
  {
   "cell_type": "code",
   "execution_count": 2,
   "id": "10015bc5",
   "metadata": {},
   "outputs": [],
   "source": [
    "a = Matrix([[1,2,3],[-4,5,6],[7,-8,9]])"
   ]
  },
  {
   "cell_type": "code",
   "execution_count": 3,
   "id": "30a708aa",
   "metadata": {},
   "outputs": [
    {
     "data": {
      "text/plain": [
       "(3, 3)"
      ]
     },
     "execution_count": 3,
     "metadata": {},
     "output_type": "execute_result"
    }
   ],
   "source": [
    "a.dim"
   ]
  },
  {
   "cell_type": "code",
   "execution_count": 4,
   "id": "af2d8ed7",
   "metadata": {},
   "outputs": [
    {
     "data": {
      "text/plain": [
       "[[1, 2, 3], [-4, 5, 6], [7, -8, 9]]"
      ]
     },
     "execution_count": 4,
     "metadata": {},
     "output_type": "execute_result"
    }
   ],
   "source": [
    "a.matrix_elements"
   ]
  },
  {
   "cell_type": "code",
   "execution_count": 5,
   "id": "a6330a34",
   "metadata": {},
   "outputs": [],
   "source": [
    "b = Matrix([[1,-2,3],[-4,5,6],[7,8,-9]])"
   ]
  },
  {
   "cell_type": "code",
   "execution_count": 6,
   "id": "8d4a5ce2",
   "metadata": {},
   "outputs": [
    {
     "data": {
      "text/plain": [
       "[[2, 0, 6], [-8, 10, 12], [14, 0, 0]]"
      ]
     },
     "execution_count": 6,
     "metadata": {},
     "output_type": "execute_result"
    }
   ],
   "source": [
    "a+b"
   ]
  },
  {
   "cell_type": "code",
   "execution_count": 7,
   "id": "79c0f4c3",
   "metadata": {},
   "outputs": [
    {
     "data": {
      "text/plain": [
       "[[0, 4, 0], [0, 0, 0], [0, -16, 18]]"
      ]
     },
     "execution_count": 7,
     "metadata": {},
     "output_type": "execute_result"
    }
   ],
   "source": [
    "a-b"
   ]
  },
  {
   "cell_type": "code",
   "execution_count": 8,
   "id": "313335af",
   "metadata": {},
   "outputs": [
    {
     "data": {
      "text/plain": [
       "[[14, 32, -12], [18, 81, -36], [102, 18, -108]]"
      ]
     },
     "execution_count": 8,
     "metadata": {},
     "output_type": "execute_result"
    }
   ],
   "source": [
    "a*b"
   ]
  },
  {
   "cell_type": "code",
   "execution_count": 9,
   "id": "298dba83",
   "metadata": {},
   "outputs": [
    {
     "data": {
      "text/plain": [
       "'Not Equal'"
      ]
     },
     "execution_count": 9,
     "metadata": {},
     "output_type": "execute_result"
    }
   ],
   "source": [
    "a == b"
   ]
  },
  {
   "cell_type": "code",
   "execution_count": 10,
   "id": "405a02dd",
   "metadata": {},
   "outputs": [],
   "source": [
    "c = Matrix([[1,2,3],[4,5,6],[7,8,9]]) "
   ]
  },
  {
   "cell_type": "code",
   "execution_count": 11,
   "id": "1656523c",
   "metadata": {},
   "outputs": [
    {
     "data": {
      "text/plain": [
       "'Not Equal'"
      ]
     },
     "execution_count": 11,
     "metadata": {},
     "output_type": "execute_result"
    }
   ],
   "source": [
    "a == c"
   ]
  },
  {
   "cell_type": "code",
   "execution_count": 12,
   "id": "5adfa042",
   "metadata": {},
   "outputs": [
    {
     "data": {
      "text/plain": [
       "[[1, -4, 7], [2, 5, -8], [3, 6, 9]]"
      ]
     },
     "execution_count": 12,
     "metadata": {},
     "output_type": "execute_result"
    }
   ],
   "source": [
    "a.transpose()"
   ]
  },
  {
   "cell_type": "code",
   "execution_count": 13,
   "id": "0a5a90ed",
   "metadata": {},
   "outputs": [
    {
     "data": {
      "text/plain": [
       "'Matrix'"
      ]
     },
     "execution_count": 13,
     "metadata": {},
     "output_type": "execute_result"
    }
   ],
   "source": [
    "a.is_Matrix(a)"
   ]
  },
  {
   "cell_type": "code",
   "execution_count": 14,
   "id": "28f1a80b",
   "metadata": {},
   "outputs": [
    {
     "data": {
      "text/plain": [
       "[9, 7, 6, 5, 3, 2, 1, -4, -8]"
      ]
     },
     "execution_count": 14,
     "metadata": {},
     "output_type": "execute_result"
    }
   ],
   "source": [
    "a.sort('dec')"
   ]
  },
  {
   "cell_type": "code",
   "execution_count": 15,
   "id": "6ec4d2b1",
   "metadata": {},
   "outputs": [
    {
     "data": {
      "text/plain": [
       "[-9, -4, -2, 1, 3, 5, 6, 7, 8]"
      ]
     },
     "execution_count": 15,
     "metadata": {},
     "output_type": "execute_result"
    }
   ],
   "source": [
    "b.sort('inc')"
   ]
  },
  {
   "cell_type": "code",
   "execution_count": 16,
   "id": "8696030b",
   "metadata": {},
   "outputs": [
    {
     "name": "stdout",
     "output_type": "stream",
     "text": [
      "1 2 3 -4 5 6 7 -8 9\n"
     ]
    }
   ],
   "source": [
    "print(a)"
   ]
  },
  {
   "cell_type": "code",
   "execution_count": 17,
   "id": "7ce87a7b",
   "metadata": {},
   "outputs": [
    {
     "data": {
      "text/plain": [
       "9"
      ]
     },
     "execution_count": 17,
     "metadata": {},
     "output_type": "execute_result"
    }
   ],
   "source": [
    "len(a)"
   ]
  },
  {
   "cell_type": "code",
   "execution_count": 18,
   "id": "81fd64eb",
   "metadata": {},
   "outputs": [
    {
     "data": {
      "text/plain": [
       "240"
      ]
     },
     "execution_count": 18,
     "metadata": {},
     "output_type": "execute_result"
    }
   ],
   "source": [
    "a.det()"
   ]
  },
  {
   "cell_type": "code",
   "execution_count": 19,
   "id": "cb69f2c1",
   "metadata": {},
   "outputs": [],
   "source": [
    "a.save('saved.txt')"
   ]
  },
  {
   "cell_type": "code",
   "execution_count": 20,
   "id": "ddadc1d4",
   "metadata": {},
   "outputs": [
    {
     "name": "stdout",
     "output_type": "stream",
     "text": [
      "1 2 3 -4 5 6 7 -8 9\n"
     ]
    }
   ],
   "source": [
    "a.load('saved.txt')"
   ]
  }
 ],
 "metadata": {
  "kernelspec": {
   "display_name": "Python 3 (ipykernel)",
   "language": "python",
   "name": "python3"
  },
  "language_info": {
   "codemirror_mode": {
    "name": "ipython",
    "version": 3
   },
   "file_extension": ".py",
   "mimetype": "text/x-python",
   "name": "python",
   "nbconvert_exporter": "python",
   "pygments_lexer": "ipython3",
   "version": "3.9.12"
  }
 },
 "nbformat": 4,
 "nbformat_minor": 5
}
