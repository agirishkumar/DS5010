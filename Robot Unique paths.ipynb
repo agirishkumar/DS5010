{
 "cells": [
  {
   "cell_type": "code",
   "execution_count": 5,
   "id": "cf852d84",
   "metadata": {},
   "outputs": [],
   "source": [
    "def unique_paths(m, n):\n",
    "    '''when this function is called by passing the dimensions of the grid, \n",
    "    returns all the possible unique paths as a list and total count of the paths'''\n",
    "    \n",
    "    #empty list of possible paths\n",
    "    paths = [] \n",
    "    \n",
    "    def traverse(x, y, path):\n",
    "        # checking conditions for moving in right or down direction\n",
    "        if x == m - 1:\n",
    "            for i in range(y, n):\n",
    "                # appending the position to path\n",
    "                path.append((x, i)) \n",
    "            paths.append(path.copy())\n",
    "            return\n",
    "        if y == n - 1:\n",
    "            for i in range(x, m):\n",
    "                # appending the position to path\n",
    "                path.append((i, y)) \n",
    "            paths.append(path.copy())\n",
    "            return\n",
    "        path.append((x, y))\n",
    "        \n",
    "        # recursion to move in the grid\n",
    "        traverse(x + 1, y, path.copy())\n",
    "        traverse(x, y + 1, path.copy())\n",
    "    traverse(0, 0, [])\n",
    "    return paths"
   ]
  },
  {
   "cell_type": "code",
   "execution_count": 6,
   "id": "14f3bf83",
   "metadata": {},
   "outputs": [
    {
     "name": "stdout",
     "output_type": "stream",
     "text": [
      "Enter the number of testcases: 2\n",
      "Enter the the no. of rows in a grid: 2\n",
      "Enter the the no. of cols in a grid: 3\n",
      "Possible Unique Paths: \n",
      "[(0, 0), (1, 0), (1, 1), (1, 2)]\n",
      "[(0, 0), (0, 1), (1, 1), (1, 2)]\n",
      "[(0, 0), (0, 1), (0, 2), (1, 2)]\n",
      "Total no. of unique Paths:  3\n",
      "Enter the the no. of rows in a grid: 3\n",
      "Enter the the no. of cols in a grid: 3\n",
      "Possible Unique Paths: \n",
      "[(0, 0), (1, 0), (2, 0), (2, 1), (2, 2)]\n",
      "[(0, 0), (1, 0), (1, 1), (2, 1), (2, 2)]\n",
      "[(0, 0), (1, 0), (1, 1), (1, 2), (2, 2)]\n",
      "[(0, 0), (0, 1), (1, 1), (2, 1), (2, 2)]\n",
      "[(0, 0), (0, 1), (1, 1), (1, 2), (2, 2)]\n",
      "[(0, 0), (0, 1), (0, 2), (1, 2), (2, 2)]\n",
      "Total no. of unique Paths:  6\n"
     ]
    }
   ],
   "source": [
    "testcases = int(input(\"Enter the number of testcases: \")) \n",
    "for case in range(testcases):\n",
    "    m_rows = int(input(\"Enter the the no. of rows in a grid: \"))\n",
    "    n_cols = int(input(\"Enter the the no. of cols in a grid: \"))\n",
    "    result = unique_paths(m_rows,n_cols) \n",
    "    print(\"Possible Unique Paths: \")\n",
    "    for path in result:\n",
    "        print(path)\n",
    "    print(\"Total no. of unique Paths: \", len(result))"
   ]
  }
 ],
 "metadata": {
  "kernelspec": {
   "display_name": "Python 3 (ipykernel)",
   "language": "python",
   "name": "python3"
  },
  "language_info": {
   "codemirror_mode": {
    "name": "ipython",
    "version": 3
   },
   "file_extension": ".py",
   "mimetype": "text/x-python",
   "name": "python",
   "nbconvert_exporter": "python",
   "pygments_lexer": "ipython3",
   "version": "3.9.12"
  }
 },
 "nbformat": 4,
 "nbformat_minor": 5
}
