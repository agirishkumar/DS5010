{
 "cells": [
  {
   "cell_type": "markdown",
   "id": "74cac9f6",
   "metadata": {},
   "source": [
    "## Inheritance Hierarchies"
   ]
  },
  {
   "cell_type": "code",
   "execution_count": 1,
   "id": "623fec00",
   "metadata": {},
   "outputs": [],
   "source": [
    "class Member:\n",
    "    \"\"\"Class Member has attribute fullname and an introduce module\"\"\"\n",
    "    def __init__(self,full_name):\n",
    "        self.fullname = full_name\n",
    "    \n",
    "    def introduce(self):\n",
    "        \"\"\"introduce module when called, returns an introduction statement with the fullname\"\"\"\n",
    "        print(f'Hi, my name is {self.fullname}!')\n",
    "        \n",
    "class Student(Member):\n",
    "    \"\"\"Class Student Inherits Member class and has an exlusive attribute reason\"\"\"\n",
    "    def __init__(self,full_name,reason):\n",
    "        super().__init__(full_name)\n",
    "        self.reason = reason\n",
    "        \n",
    "class Instructor(Member):\n",
    "    \"\"\"Class Instructor Inherits Member class and has an exlusive attributes bio and skills\"\"\"\n",
    "    def __init__(self,full_name,bio):\n",
    "        super().__init__(full_name)\n",
    "        self.bio = bio\n",
    "        self.skills = []\n",
    "        \n",
    "    def add_skill(self,new_skill):\n",
    "        \"\"\"this module when passed with a skill, skill is added to the list of skills of the instructor \"\"\"\n",
    "        self.skills.append(new_skill)\n",
    "    \n",
    "class Workshop:\n",
    "    \"\"\"Class Workshop has date, subject, list of instructors and list of students\"\"\"\n",
    "    def __init__(self,date,subject):\n",
    "        self.date = date\n",
    "        self.subject = subject\n",
    "        self.instructors = []\n",
    "        self.students = []\n",
    "        \n",
    "    def add_participant(self,member):\n",
    "        \"\"\"if the participant is from Instructor instance, participant's fullname is added to list of instructors for the workshop\n",
    "           if the participant is from Student instance, participant's fullname is added to list of students for the workshop\n",
    "        \"\"\"\n",
    "        if isinstance(member, Instructor):\n",
    "            self.instructors.append(member.fullname)\n",
    "        elif isinstance(member, Student):\n",
    "            self.students.append(member.fullname)\n",
    "    \n",
    "    def print_details(self):\n",
    "        \"\"\"this module when called, prints all the details of the workshop\"\"\"\n",
    "        print(f'Workshop Subject: {self.subject}, Workshop Date: {self.date}, Instructors: {self.instructors}, Students: {self.students}')"
   ]
  },
  {
   "cell_type": "code",
   "execution_count": 2,
   "id": "79f2d6d8",
   "metadata": {},
   "outputs": [],
   "source": [
    "workshop = Workshop('12/03/2021 ', ' Programming in Python ')\n",
    "jane = Student('Jane Doe ', \"I'm trying to learn programming and need some help \")\n",
    "lena = Student('Lena Smith ', \"I'm really excited about learning to program !\")\n",
    "vicky = Instructor('Vicky Python ', \"I want to help people learn coding \")\n",
    "vicky.add_skill('Python ')\n",
    "vicky.add_skill('HTML ')\n",
    "vicky.add_skill('JavaScript ')\n",
    "nicole = Instructor ('Nicole McMillan ', \"I've been coding in Python for 5 years \")\n",
    "nicole.add_skill('Python')\n",
    "workshop.add_participant(jane)\n",
    "workshop.add_participant(lena)\n",
    "workshop.add_participant(vicky)\n",
    "workshop.add_participant (nicole)\n"
   ]
  },
  {
   "cell_type": "code",
   "execution_count": 3,
   "id": "73b9d755",
   "metadata": {},
   "outputs": [
    {
     "name": "stdout",
     "output_type": "stream",
     "text": [
      "Workshop Subject:  Programming in Python , Workshop Date: 12/03/2021 , Instructors: ['Vicky Python ', 'Nicole McMillan '], Students: ['Jane Doe ', 'Lena Smith ']\n"
     ]
    }
   ],
   "source": [
    "workshop.print_details()"
   ]
  },
  {
   "cell_type": "code",
   "execution_count": null,
   "id": "b963a5e4",
   "metadata": {},
   "outputs": [],
   "source": []
  }
 ],
 "metadata": {
  "kernelspec": {
   "display_name": "Python 3 (ipykernel)",
   "language": "python",
   "name": "python3"
  },
  "language_info": {
   "codemirror_mode": {
    "name": "ipython",
    "version": 3
   },
   "file_extension": ".py",
   "mimetype": "text/x-python",
   "name": "python",
   "nbconvert_exporter": "python",
   "pygments_lexer": "ipython3",
   "version": "3.9.12"
  }
 },
 "nbformat": 4,
 "nbformat_minor": 5
}
