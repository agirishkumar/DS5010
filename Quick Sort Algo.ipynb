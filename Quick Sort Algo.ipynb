{
 "cells": [
  {
   "cell_type": "code",
   "execution_count": 23,
   "id": "f47f621f",
   "metadata": {},
   "outputs": [],
   "source": [
    "def partition(A, p, r):\n",
    "    '''\n",
    "    when partion function is called by passing the array of elements and lowest and  highest index \n",
    "    in the array, it sorts and returns the index of the partition\n",
    "    '''\n",
    "    \n",
    "\n",
    "    x = A[r] # choose the rightmost element as pivot\n",
    "    i = p - 1 # pointer for greater element\n",
    "    for j in range(p,r): # compare each element with pivot\n",
    "        if A[j] <= x:\n",
    "            i += 1 # swap it with the greater element pointed by i\n",
    "            (A[i], A[j]) = (A[j], A[i]) # swapping element at i with element at j\n",
    "    (A[i+1], A[r]) = (A[r], A[i+1]) # swap the pivot element with the greater element specified by i\n",
    "    return i+1 # return the position where parition is done\n",
    "\n",
    "def quick_sort(A, p, r):\n",
    "    '''when this quicksort function is called with the list of elements in array, \n",
    "    with lowest and highest index of the array then it  returns a sorted array'''\n",
    "    \n",
    "    #keeps partitioning the array until its sorted\n",
    "    if p < r:\n",
    "        q = partition(A, p, r)\n",
    "        quick_sort(A, p, q-1)\n",
    "        quick_sort(A, q+1, r)\n"
   ]
  },
  {
   "cell_type": "code",
   "execution_count": 24,
   "id": "aa498ae5",
   "metadata": {},
   "outputs": [
    {
     "name": "stdout",
     "output_type": "stream",
     "text": [
      "Enter the number of testcases: 1\n",
      "Enter the elements of array with spaces: 13 19 9 5 12 8 7 4 11 2 6 21\n",
      "[13, 19, 9, 5, 12, 8, 7, 4, 11, 2, 6, 21]\n",
      "Sorted Array: \n",
      "[13, 19, 9, 5, 12, 8, 7, 4, 11, 2, 6, 21]\n",
      "[5, 4, 2, 6, 12, 8, 7, 19, 11, 9, 13, 21]\n",
      "[2, 4, 5, 6, 12, 8, 7, 19, 11, 9, 13, 21]\n",
      "[2, 4, 5, 6, 12, 8, 7, 19, 11, 9, 13, 21]\n",
      "[2, 4, 5, 6, 12, 8, 7, 11, 9, 13, 19, 21]\n",
      "[2, 4, 5, 6, 8, 7, 9, 11, 12, 13, 19, 21]\n",
      "[2, 4, 5, 6, 7, 8, 9, 11, 12, 13, 19, 21]\n",
      "[2, 4, 5, 6, 7, 8, 9, 11, 12, 13, 19, 21]\n",
      "None\n"
     ]
    }
   ],
   "source": [
    "testcases = int(input(\"Enter the number of testcases: \")) \n",
    "for case in range(testcases):\n",
    "    Arr = input(\"Enter the elements of array with spaces: \")\n",
    "    A = [int(x) for x in Arr.split()]\n",
    "    print(A)\n",
    "    print(\"Sorted Array: \")\n",
    "    print(quick_sort(A, 0, len(A)-1))\n"
   ]
  },
  {
   "cell_type": "markdown",
   "id": "3e2d55dd",
   "metadata": {},
   "source": [
    "Best case: O(n*log n) : when the pivot element is the middle element \n",
    "\n",
    "Worst case: O(n^2) : when the pivot element picked is either the greatest or the smallest element."
   ]
  }
 ],
 "metadata": {
  "kernelspec": {
   "display_name": "Python 3 (ipykernel)",
   "language": "python",
   "name": "python3"
  },
  "language_info": {
   "codemirror_mode": {
    "name": "ipython",
    "version": 3
   },
   "file_extension": ".py",
   "mimetype": "text/x-python",
   "name": "python",
   "nbconvert_exporter": "python",
   "pygments_lexer": "ipython3",
   "version": "3.9.12"
  }
 },
 "nbformat": 4,
 "nbformat_minor": 5
}
