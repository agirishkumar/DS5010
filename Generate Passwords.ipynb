{
 "cells": [
  {
   "cell_type": "code",
   "execution_count": 14,
   "id": "dd8d510b",
   "metadata": {},
   "outputs": [],
   "source": [
    "def modify(arr, len_arr, i, x, result):\n",
    "    ''' when Modify function is called with passing the list of password characters, length of the list, \n",
    "    x (empty string to be appended), i is range of the iteration gives the result list with all possible passwords\n",
    "    '''\n",
    "    if i == 0: \n",
    "        result.append(x) # append string into a list for each iteration\n",
    "        return\n",
    "    \n",
    "    for j in range(0, len_arr):\n",
    "        temp = x + arr[j] # add next charachter to existing string\n",
    "        modify(arr, len_arr, i - 1, temp, result)\n",
    "    return\n",
    "  \n",
    "\n",
    "def generate_passwords(arr,max_length):\n",
    "    '''Password generator for a given string and max  length of password is passed, return the result list with all the\n",
    "    possible passwords\n",
    "  '''\n",
    "    result = []\n",
    "    x = \"\"\n",
    "    for i in range(1, max_length + 1): # loop until the max length of passwords is reached\n",
    "        modify([*arr], len([*arr]), i , x, result)\n",
    "    return result\n"
   ]
  },
  {
   "cell_type": "code",
   "execution_count": 15,
   "id": "a8100b3f",
   "metadata": {},
   "outputs": [
    {
     "name": "stdout",
     "output_type": "stream",
     "text": [
      "Enter the number of testcases: 3\n",
      "Enter the string of characters: abc\n",
      "Enter the maximum length of password: 2\n",
      "['a', 'b', 'c', 'aa', 'ab', 'ac', 'ba', 'bb', 'bc', 'ca', 'cb', 'cc']\n",
      "Enter the string of characters: pqrs\n",
      "Enter the maximum length of password: 3\n",
      "['p', 'q', 'r', 's', 'pp', 'pq', 'pr', 'ps', 'qp', 'qq', 'qr', 'qs', 'rp', 'rq', 'rr', 'rs', 'sp', 'sq', 'sr', 'ss', 'ppp', 'ppq', 'ppr', 'pps', 'pqp', 'pqq', 'pqr', 'pqs', 'prp', 'prq', 'prr', 'prs', 'psp', 'psq', 'psr', 'pss', 'qpp', 'qpq', 'qpr', 'qps', 'qqp', 'qqq', 'qqr', 'qqs', 'qrp', 'qrq', 'qrr', 'qrs', 'qsp', 'qsq', 'qsr', 'qss', 'rpp', 'rpq', 'rpr', 'rps', 'rqp', 'rqq', 'rqr', 'rqs', 'rrp', 'rrq', 'rrr', 'rrs', 'rsp', 'rsq', 'rsr', 'rss', 'spp', 'spq', 'spr', 'sps', 'sqp', 'sqq', 'sqr', 'sqs', 'srp', 'srq', 'srr', 'srs', 'ssp', 'ssq', 'ssr', 'sss']\n",
      "Enter the string of characters: random\n",
      "Enter the maximum length of password: 2\n",
      "['r', 'a', 'n', 'd', 'o', 'm', 'rr', 'ra', 'rn', 'rd', 'ro', 'rm', 'ar', 'aa', 'an', 'ad', 'ao', 'am', 'nr', 'na', 'nn', 'nd', 'no', 'nm', 'dr', 'da', 'dn', 'dd', 'do', 'dm', 'or', 'oa', 'on', 'od', 'oo', 'om', 'mr', 'ma', 'mn', 'md', 'mo', 'mm']\n"
     ]
    }
   ],
   "source": [
    "testcases = int(input(\"Enter the number of testcases: \")) \n",
    "for case in range(testcases):\n",
    "    string_pass = input(\"Enter the string of characters: \")\n",
    "    max_length = int(input(\"Enter the maximum length of password: \"))\n",
    "    arr = [x for x in string_pass]\n",
    "    print(generate_passwords(arr,max_length))\n",
    "        "
   ]
  },
  {
   "cell_type": "code",
   "execution_count": null,
   "id": "e5517b0f",
   "metadata": {},
   "outputs": [],
   "source": []
  }
 ],
 "metadata": {
  "kernelspec": {
   "display_name": "Python 3 (ipykernel)",
   "language": "python",
   "name": "python3"
  },
  "language_info": {
   "codemirror_mode": {
    "name": "ipython",
    "version": 3
   },
   "file_extension": ".py",
   "mimetype": "text/x-python",
   "name": "python",
   "nbconvert_exporter": "python",
   "pygments_lexer": "ipython3",
   "version": "3.9.12"
  }
 },
 "nbformat": 4,
 "nbformat_minor": 5
}
