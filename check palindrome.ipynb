{
 "cells": [
  {
   "cell_type": "code",
   "execution_count": 1,
   "id": "4c004038",
   "metadata": {},
   "outputs": [],
   "source": [
    "def isPalindrome(n):\n",
    "    '''when a string is passed to this function, it returns True if it's a Palindrome, else False '''\n",
    "   # if the length of the string is 0 or 1, it is a palidrome, so returns True\n",
    "    if len(n)<2:\n",
    "        return True\n",
    "    # if the first character of the word is not same as last character, then cant be a palindrome, so returns False\n",
    "    elif n[0] != n[-1]:\n",
    "        return False\n",
    "    # if the first and last characters are same, then the string n is reduced and recursively checked if its palindrome \n",
    "    else:\n",
    "        return isPalindrome(n[1:-1])"
   ]
  },
  {
   "cell_type": "code",
   "execution_count": 7,
   "id": "4c2331e0",
   "metadata": {},
   "outputs": [
    {
     "name": "stdout",
     "output_type": "stream",
     "text": [
      "Enter the number of testcases: 5\n",
      "Enter the string to check if it's a palindrome: level\n",
      "True\n",
      "Enter the string to check if it's a palindrome: madam\n",
      "True\n",
      "Enter the string to check if it's a palindrome: racecar\n",
      "True\n",
      "Enter the string to check if it's a palindrome: radar\n",
      "True\n",
      "Enter the string to check if it's a palindrome: school\n",
      "False\n"
     ]
    }
   ],
   "source": [
    "# Enter the number of testcases\n",
    "testcases = int(input(\"Enter the number of testcases: \")) \n",
    "for case in range(testcases):\n",
    "    n = input(\"Enter the string to check if it's a palindrome: \")\n",
    "    print(isPalindrome(n))"
   ]
  },
  {
   "cell_type": "code",
   "execution_count": null,
   "id": "8b5d73e1",
   "metadata": {},
   "outputs": [],
   "source": []
  }
 ],
 "metadata": {
  "kernelspec": {
   "display_name": "Python 3 (ipykernel)",
   "language": "python",
   "name": "python3"
  },
  "language_info": {
   "codemirror_mode": {
    "name": "ipython",
    "version": 3
   },
   "file_extension": ".py",
   "mimetype": "text/x-python",
   "name": "python",
   "nbconvert_exporter": "python",
   "pygments_lexer": "ipython3",
   "version": "3.9.12"
  }
 },
 "nbformat": 4,
 "nbformat_minor": 5
}
